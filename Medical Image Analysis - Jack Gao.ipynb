{
 "cells": [
  {
   "cell_type": "code",
   "execution_count": 1,
   "metadata": {},
   "outputs": [],
   "source": [
    "#!pip install opencv-python"
   ]
  },
  {
   "cell_type": "code",
   "execution_count": 2,
   "metadata": {},
   "outputs": [],
   "source": [
    "#!pip install imutils"
   ]
  },
  {
   "cell_type": "code",
   "execution_count": 3,
   "metadata": {},
   "outputs": [],
   "source": [
    "#!pip install Keras"
   ]
  },
  {
   "cell_type": "code",
   "execution_count": 40,
   "metadata": {},
   "outputs": [],
   "source": [
    "#!pip install tensorflow"
   ]
  },
  {
   "cell_type": "markdown",
   "metadata": {},
   "source": [
    "## Step 1: Split train, validation and test Datasets"
   ]
  },
  {
   "cell_type": "code",
   "execution_count": 29,
   "metadata": {},
   "outputs": [],
   "source": [
    "import os\n",
    "import imutils\n",
    "from imutils import paths\n",
    "import random\n",
    "import shutil\n",
    "import os"
   ]
  },
  {
   "cell_type": "code",
   "execution_count": 30,
   "metadata": {},
   "outputs": [],
   "source": [
    "import tensorflow"
   ]
  },
  {
   "cell_type": "code",
   "execution_count": 31,
   "metadata": {},
   "outputs": [],
   "source": [
    "# import the necessary packages\n",
    "import os\n",
    "\n",
    "# initialize the path to the *original* input directory of images\n",
    "ORIG_INPUT_DATASET = '/Users/Xingkang/Desktop/cell_images'\n",
    "\n",
    "# initialize the base path to the *new* directory that will contain\n",
    "# our images after computing the training and testing split\n",
    "BASE_PATH = '/Users/Xingkang/Desktop'\n",
    "\n",
    "# derive the training, validation, and testing directories\n",
    "TRAIN_PATH = os.path.sep.join([BASE_PATH, \"training\"])\n",
    "VAL_PATH = os.path.sep.join([BASE_PATH, \"validation\"])\n",
    "TEST_PATH = os.path.sep.join([BASE_PATH, \"testing\"])\n",
    "\n",
    "# define the amount of data that will be used training\n",
    "TRAIN_SPLIT = 0.8\n",
    "\n",
    "# the amount of validation data will be a percentage of the training* data\n",
    "VAL_SPLIT = 0.1"
   ]
  },
  {
   "cell_type": "code",
   "execution_count": 32,
   "metadata": {},
   "outputs": [],
   "source": [
    "imagePaths = list(paths.list_images(ORIG_INPUT_DATASET))"
   ]
  },
  {
   "cell_type": "code",
   "execution_count": 33,
   "metadata": {},
   "outputs": [
    {
     "data": {
      "text/plain": [
       "27558"
      ]
     },
     "execution_count": 33,
     "metadata": {},
     "output_type": "execute_result"
    }
   ],
   "source": [
    "len(imagePaths)"
   ]
  },
  {
   "cell_type": "code",
   "execution_count": 34,
   "metadata": {},
   "outputs": [],
   "source": [
    "random.seed(42)\n",
    "random.shuffle(imagePaths)"
   ]
  },
  {
   "cell_type": "code",
   "execution_count": 35,
   "metadata": {},
   "outputs": [],
   "source": [
    "# compute the training and testing split\n",
    "i = int(len(imagePaths) * TRAIN_SPLIT)\n",
    "trainPaths = imagePaths[:i]\n",
    "testPaths = imagePaths[i:]"
   ]
  },
  {
   "cell_type": "code",
   "execution_count": 36,
   "metadata": {},
   "outputs": [],
   "source": [
    "# we'll be using part of the training data for validation\n",
    "i = int(len(trainPaths) * VAL_SPLIT)\n",
    "valPaths = trainPaths[:i]\n",
    "trainPaths = trainPaths[i:]"
   ]
  },
  {
   "cell_type": "code",
   "execution_count": 37,
   "metadata": {},
   "outputs": [],
   "source": [
    "# define the datasets that we'll be building\n",
    "datasets = [\n",
    "    (\"training\", trainPaths, TRAIN_PATH),\n",
    "    (\"validation\", valPaths, VAL_PATH),\n",
    "    (\"testing\", testPaths, TEST_PATH)\n",
    "]"
   ]
  },
  {
   "cell_type": "code",
   "execution_count": 14,
   "metadata": {},
   "outputs": [
    {
     "name": "stdout",
     "output_type": "stream",
     "text": [
      "[INFO] building 'training' split\n",
      "[INFO] 'creating /Users/Xingkang/Desktop/training' directory\n",
      "[INFO] 'creating /Users/Xingkang/Desktop/training/Parasitized' directory\n",
      "[INFO] 'creating /Users/Xingkang/Desktop/training/Uninfected' directory\n",
      "[INFO] building 'validation' split\n",
      "[INFO] 'creating /Users/Xingkang/Desktop/validation' directory\n",
      "[INFO] 'creating /Users/Xingkang/Desktop/validation/Parasitized' directory\n",
      "[INFO] 'creating /Users/Xingkang/Desktop/validation/Uninfected' directory\n",
      "[INFO] building 'testing' split\n",
      "[INFO] 'creating /Users/Xingkang/Desktop/testing' directory\n",
      "[INFO] 'creating /Users/Xingkang/Desktop/testing/Parasitized' directory\n",
      "[INFO] 'creating /Users/Xingkang/Desktop/testing/Uninfected' directory\n"
     ]
    }
   ],
   "source": [
    "# loop over the datasets\n",
    "for (dType, imagePaths, baseOutput) in datasets:\n",
    "    # show which data split we are creating\n",
    "    print(\"[INFO] building '{}' split\".format(dType))\n",
    "    # if the output base output directory does not exist, create it\n",
    "    if not os.path.exists(baseOutput):\n",
    "        print(\"[INFO] 'creating {}' directory\".format(baseOutput))\n",
    "        os.makedirs(baseOutput)\n",
    "    # loop over the input image paths\n",
    "    for inputPath in imagePaths:\n",
    "        # extract the filename of the input image along with its\n",
    "        # corresponding class label\n",
    "        filename = inputPath.split(os.path.sep)[-1]\n",
    "        label = inputPath.split(os.path.sep)[-2]\n",
    "        # build the path to the label directory\n",
    "        labelPath = os.path.sep.join([baseOutput, label])\n",
    "        # if the label output directory does not exist, create it\n",
    "        if not os.path.exists(labelPath):\n",
    "            print(\"[INFO] 'creating {}' directory\".format(labelPath))\n",
    "            os.makedirs(labelPath)\n",
    "        # construct the path to the destination image and then copy the image itself\n",
    "        p = os.path.sep.join([labelPath, filename])\n",
    "        shutil.copy2(inputPath, p)"
   ]
  },
  {
   "cell_type": "code",
   "execution_count": 2,
   "metadata": {},
   "outputs": [],
   "source": [
    "# import the necessary packages\n",
    "from tensorflow.keras.preprocessing.image import ImageDataGenerator\n",
    "from tensorflow.keras.callbacks import LearningRateScheduler\n",
    "from tensorflow.keras.optimizers import SGD\n",
    "from sklearn.metrics import classification_report\n",
    "import matplotlib.pyplot as plt\n",
    "import numpy as np\n",
    "import argparse"
   ]
  },
  {
   "cell_type": "code",
   "execution_count": 16,
   "metadata": {},
   "outputs": [],
   "source": [
    "totalTrain = len(list(paths.list_images(TRAIN_PATH)))\n",
    "totalVal = len(list(paths.list_images(VAL_PATH)))\n",
    "totalTest = len(list(paths.list_images(TEST_PATH)))"
   ]
  },
  {
   "cell_type": "code",
   "execution_count": 17,
   "metadata": {},
   "outputs": [
    {
     "name": "stdout",
     "output_type": "stream",
     "text": [
      "5512\n"
     ]
    }
   ],
   "source": [
    "print(totalTest)"
   ]
  },
  {
   "cell_type": "code",
   "execution_count": 18,
   "metadata": {},
   "outputs": [
    {
     "name": "stdout",
     "output_type": "stream",
     "text": [
      "19842\n"
     ]
    }
   ],
   "source": [
    "print(totalTrain)"
   ]
  },
  {
   "cell_type": "code",
   "execution_count": 19,
   "metadata": {
    "scrolled": true
   },
   "outputs": [
    {
     "name": "stdout",
     "output_type": "stream",
     "text": [
      "2204\n"
     ]
    }
   ],
   "source": [
    "print(totalVal)"
   ]
  },
  {
   "cell_type": "markdown",
   "metadata": {},
   "source": [
    "## Step 2: Extra features and labels for all three datasets"
   ]
  },
  {
   "cell_type": "code",
   "execution_count": 20,
   "metadata": {},
   "outputs": [],
   "source": [
    "from keras.applications import VGG16"
   ]
  },
  {
   "cell_type": "code",
   "execution_count": 21,
   "metadata": {},
   "outputs": [
    {
     "name": "stdout",
     "output_type": "stream",
     "text": [
      "Model: \"vgg16\"\n",
      "_________________________________________________________________\n",
      "Layer (type)                 Output Shape              Param #   \n",
      "=================================================================\n",
      "input_1 (InputLayer)         [(None, None, None, 3)]   0         \n",
      "_________________________________________________________________\n",
      "block1_conv1 (Conv2D)        (None, None, None, 64)    1792      \n",
      "_________________________________________________________________\n",
      "block1_conv2 (Conv2D)        (None, None, None, 64)    36928     \n",
      "_________________________________________________________________\n",
      "block1_pool (MaxPooling2D)   (None, None, None, 64)    0         \n",
      "_________________________________________________________________\n",
      "block2_conv1 (Conv2D)        (None, None, None, 128)   73856     \n",
      "_________________________________________________________________\n",
      "block2_conv2 (Conv2D)        (None, None, None, 128)   147584    \n",
      "_________________________________________________________________\n",
      "block2_pool (MaxPooling2D)   (None, None, None, 128)   0         \n",
      "_________________________________________________________________\n",
      "block3_conv1 (Conv2D)        (None, None, None, 256)   295168    \n",
      "_________________________________________________________________\n",
      "block3_conv2 (Conv2D)        (None, None, None, 256)   590080    \n",
      "_________________________________________________________________\n",
      "block3_conv3 (Conv2D)        (None, None, None, 256)   590080    \n",
      "_________________________________________________________________\n",
      "block3_pool (MaxPooling2D)   (None, None, None, 256)   0         \n",
      "_________________________________________________________________\n",
      "block4_conv1 (Conv2D)        (None, None, None, 512)   1180160   \n",
      "_________________________________________________________________\n",
      "block4_conv2 (Conv2D)        (None, None, None, 512)   2359808   \n",
      "_________________________________________________________________\n",
      "block4_conv3 (Conv2D)        (None, None, None, 512)   2359808   \n",
      "_________________________________________________________________\n",
      "block4_pool (MaxPooling2D)   (None, None, None, 512)   0         \n",
      "_________________________________________________________________\n",
      "block5_conv1 (Conv2D)        (None, None, None, 512)   2359808   \n",
      "_________________________________________________________________\n",
      "block5_conv2 (Conv2D)        (None, None, None, 512)   2359808   \n",
      "_________________________________________________________________\n",
      "block5_conv3 (Conv2D)        (None, None, None, 512)   2359808   \n",
      "_________________________________________________________________\n",
      "block5_pool (MaxPooling2D)   (None, None, None, 512)   0         \n",
      "=================================================================\n",
      "Total params: 14,714,688\n",
      "Trainable params: 14,714,688\n",
      "Non-trainable params: 0\n",
      "_________________________________________________________________\n"
     ]
    }
   ],
   "source": [
    "conv_base = VGG16(weights = \"imagenet\",\n",
    "include_top = False)\n",
    "conv_base.summary()"
   ]
  },
  {
   "cell_type": "code",
   "execution_count": 22,
   "metadata": {},
   "outputs": [],
   "source": [
    "# initialize the training training data augmentation object\n",
    "trainAug = ImageDataGenerator(\n",
    "    rescale=1 / 255.0,\n",
    "    rotation_range=20,\n",
    "    zoom_range=0.05,\n",
    "    width_shift_range=0.05,\n",
    "    height_shift_range=0.05,\n",
    "    shear_range=0.05,\n",
    "    horizontal_flip=True,\n",
    "    fill_mode=\"nearest\")\n",
    "\n",
    "# initialize the validation (and testing) data augmentation object\n",
    "valAug = ImageDataGenerator(rescale=1 / 255.0)"
   ]
  },
  {
   "cell_type": "code",
   "execution_count": 24,
   "metadata": {},
   "outputs": [
    {
     "name": "stdout",
     "output_type": "stream",
     "text": [
      "Found 19842 images belonging to 2 classes.\n",
      "Found 2204 images belonging to 2 classes.\n",
      "Found 5512 images belonging to 2 classes.\n"
     ]
    }
   ],
   "source": [
    "# initialize the training generator\n",
    "\n",
    "BS = 200\n",
    "\n",
    "trainGen = trainAug.flow_from_directory(\n",
    "    TRAIN_PATH,\n",
    "    class_mode=\"binary\",\n",
    "    target_size=(150, 150),\n",
    "    color_mode=\"rgb\",\n",
    "    shuffle=True,\n",
    "    batch_size=BS)\n",
    "\n",
    "# initialize the validation generator\n",
    "valGen = valAug.flow_from_directory(\n",
    "    VAL_PATH,\n",
    "    class_mode=\"binary\",\n",
    "    target_size=(150, 150),\n",
    "    color_mode=\"rgb\",\n",
    "    shuffle=False,\n",
    "    batch_size=BS)\n",
    "\n",
    "# initialize the testing generator\n",
    "testGen = valAug.flow_from_directory(\n",
    "    TEST_PATH,\n",
    "    class_mode=\"binary\",\n",
    "    target_size=(150, 150),\n",
    "    color_mode=\"rgb\",\n",
    "    shuffle=False,\n",
    "    batch_size=BS)"
   ]
  },
  {
   "cell_type": "code",
   "execution_count": 25,
   "metadata": {},
   "outputs": [],
   "source": [
    "# create function to extra features and labels\n",
    "def extract_features(generator,sample_count):\n",
    "    features = np.zeros(shape=(sample_count,4,4,512))\n",
    "    labels = np.zeros(shape=(sample_count))\n",
    "    i=0\n",
    "    batch_size=BS\n",
    "    \n",
    "    for inputs_batch,labels_batch in generator:\n",
    "        #print(labels_batch)\n",
    "        features_batch = conv_base.predict(inputs_batch)\n",
    "        features[i * batch_size: (i+1) * batch_size] = features_batch\n",
    "        labels[i * batch_size: (i+1) * batch_size] = labels_batch\n",
    "        \n",
    "        i += 1\n",
    "        \n",
    "        if ((i * batch_size % 1000) == 0 ):\n",
    "            print(\"processed size =\", i * batch_size)\n",
    "        if i * batch_size >= sample_count:\n",
    "            break\n",
    "\n",
    "    return features, labels"
   ]
  },
  {
   "cell_type": "code",
   "execution_count": 26,
   "metadata": {},
   "outputs": [
    {
     "name": "stdout",
     "output_type": "stream",
     "text": [
      "processed size = 1000\n",
      "processed size = 2000\n"
     ]
    }
   ],
   "source": [
    "valFeatures,valLabels = extract_features(valGen,totalVal)"
   ]
  },
  {
   "cell_type": "code",
   "execution_count": 29,
   "metadata": {},
   "outputs": [
    {
     "data": {
      "text/plain": [
       "(2204, 4, 4, 512)"
      ]
     },
     "execution_count": 29,
     "metadata": {},
     "output_type": "execute_result"
    }
   ],
   "source": [
    "valFeatures.shape"
   ]
  },
  {
   "cell_type": "code",
   "execution_count": 30,
   "metadata": {},
   "outputs": [
    {
     "name": "stdout",
     "output_type": "stream",
     "text": [
      "processed size = 1000\n",
      "processed size = 2000\n",
      "processed size = 3000\n",
      "processed size = 4000\n",
      "processed size = 5000\n",
      "processed size = 6000\n",
      "processed size = 7000\n",
      "processed size = 8000\n",
      "processed size = 9000\n",
      "processed size = 10000\n",
      "processed size = 11000\n",
      "processed size = 12000\n",
      "processed size = 13000\n",
      "processed size = 14000\n",
      "processed size = 15000\n",
      "processed size = 16000\n",
      "processed size = 17000\n",
      "processed size = 18000\n",
      "processed size = 19000\n",
      "processed size = 20000\n"
     ]
    }
   ],
   "source": [
    "trainFeatures,trainLabels = extract_features(trainGen,totalTrain)"
   ]
  },
  {
   "cell_type": "code",
   "execution_count": 31,
   "metadata": {},
   "outputs": [],
   "source": [
    "np.save('val_features',valFeatures)\n",
    "np.save('val_labels',valLabels)\n",
    "np.save('train_features',trainFeatures)\n",
    "np.save('train_labels',trainLabels)"
   ]
  },
  {
   "cell_type": "code",
   "execution_count": 32,
   "metadata": {},
   "outputs": [
    {
     "data": {
      "text/plain": [
       "(19842, 4, 4, 512)"
      ]
     },
     "execution_count": 32,
     "metadata": {},
     "output_type": "execute_result"
    }
   ],
   "source": [
    "trainFeatures.shape"
   ]
  },
  {
   "cell_type": "code",
   "execution_count": 33,
   "metadata": {},
   "outputs": [
    {
     "data": {
      "text/plain": [
       "(19842,)"
      ]
     },
     "execution_count": 33,
     "metadata": {},
     "output_type": "execute_result"
    }
   ],
   "source": [
    "trainLabels.shape"
   ]
  },
  {
   "cell_type": "code",
   "execution_count": 36,
   "metadata": {},
   "outputs": [
    {
     "name": "stdout",
     "output_type": "stream",
     "text": [
      "processed size = 1000\n",
      "processed size = 2000\n",
      "processed size = 3000\n",
      "processed size = 4000\n",
      "processed size = 5000\n"
     ]
    }
   ],
   "source": [
    "testFeatures,testLabels = extract_features(testGen,totalTest)"
   ]
  },
  {
   "cell_type": "code",
   "execution_count": 37,
   "metadata": {},
   "outputs": [],
   "source": [
    "np.save('test_features',testFeatures)\n",
    "np.save('test_labels',testLabels)"
   ]
  },
  {
   "cell_type": "code",
   "execution_count": 3,
   "metadata": {},
   "outputs": [],
   "source": [
    "import numpy as np\n",
    "\n",
    "trainFeatures = np.load('train_features.npy')\n",
    "trainLabels = np.load('train_labels.npy')\n",
    "valFeatures = np.load('val_features.npy')\n",
    "valLabels = np.load('val_labels.npy')\n",
    "testFeatures = np.load('test_features.npy')\n",
    "testLabels = np.load('test_labels.npy')"
   ]
  },
  {
   "cell_type": "code",
   "execution_count": 7,
   "metadata": {
    "scrolled": true
   },
   "outputs": [
    {
     "name": "stdout",
     "output_type": "stream",
     "text": [
      "Python 3.8.3\r\n"
     ]
    }
   ],
   "source": [
    "!python --version"
   ]
  },
  {
   "cell_type": "code",
   "execution_count": 13,
   "metadata": {},
   "outputs": [
    {
     "name": "stdout",
     "output_type": "stream",
     "text": [
      "Name: tensorflow\n",
      "Version: 2.4.1\n",
      "Summary: TensorFlow is an open source machine learning framework for everyone.\n",
      "Home-page: https://www.tensorflow.org/\n",
      "Author: Google Inc.\n",
      "Author-email: packages@tensorflow.org\n",
      "License: Apache 2.0\n",
      "Location: /Users/Xingkang/opt/anaconda3/lib/python3.8/site-packages\n",
      "Requires: grpcio, numpy, astunparse, protobuf, absl-py, opt-einsum, flatbuffers, termcolor, wrapt, keras-preprocessing, wheel, google-pasta, gast, tensorboard, tensorflow-estimator, h5py, six, typing-extensions\n",
      "Required-by: \n",
      "Note: you may need to restart the kernel to use updated packages.\n"
     ]
    }
   ],
   "source": [
    "pip show tensorflow"
   ]
  },
  {
   "cell_type": "code",
   "execution_count": 12,
   "metadata": {},
   "outputs": [
    {
     "data": {
      "text/plain": [
       "(19842, 4, 4, 512)"
      ]
     },
     "execution_count": 12,
     "metadata": {},
     "output_type": "execute_result"
    }
   ],
   "source": [
    "trainFeatures.shape"
   ]
  },
  {
   "cell_type": "code",
   "execution_count": 19,
   "metadata": {},
   "outputs": [
    {
     "data": {
      "text/plain": [
       "0.49828646305815943"
      ]
     },
     "execution_count": 19,
     "metadata": {},
     "output_type": "execute_result"
    }
   ],
   "source": [
    "trainLabels.sum()/len(trainLabels)"
   ]
  },
  {
   "cell_type": "code",
   "execution_count": 24,
   "metadata": {},
   "outputs": [
    {
     "data": {
      "text/plain": [
       "array([[[0.        , 0.        , 0.0788542 , ..., 0.        ,\n",
       "         0.9115749 , 0.        ],\n",
       "        [0.42573977, 0.        , 1.56391287, ..., 0.        ,\n",
       "         0.75693053, 0.        ],\n",
       "        [0.93625277, 0.        , 1.07402086, ..., 0.        ,\n",
       "         0.36188185, 0.        ],\n",
       "        [0.43122604, 0.        , 1.96310353, ..., 0.        ,\n",
       "         1.03826785, 0.        ]],\n",
       "\n",
       "       [[0.        , 0.        , 2.09876704, ..., 0.        ,\n",
       "         0.78235775, 0.        ],\n",
       "        [1.01027966, 0.        , 2.41391921, ..., 0.        ,\n",
       "         0.49252808, 0.        ],\n",
       "        [1.49402761, 0.        , 1.34955549, ..., 0.        ,\n",
       "         0.28055608, 0.        ],\n",
       "        [0.90597242, 0.        , 1.86991072, ..., 0.        ,\n",
       "         0.95605409, 0.        ]],\n",
       "\n",
       "       [[0.        , 0.        , 1.91962194, ..., 0.        ,\n",
       "         0.81638527, 0.        ],\n",
       "        [1.05807376, 0.        , 1.86351085, ..., 0.        ,\n",
       "         0.81781983, 0.        ],\n",
       "        [1.35148668, 0.        , 0.59649837, ..., 0.        ,\n",
       "         0.49515414, 0.        ],\n",
       "        [0.49829704, 0.        , 0.40814853, ..., 0.        ,\n",
       "         0.68445396, 0.        ]],\n",
       "\n",
       "       [[0.        , 0.        , 0.96332645, ..., 0.20297509,\n",
       "         1.16000414, 0.        ],\n",
       "        [0.56942523, 0.        , 0.77499855, ..., 0.        ,\n",
       "         1.43742728, 0.        ],\n",
       "        [0.93655545, 0.        , 0.09584627, ..., 0.        ,\n",
       "         0.8079468 , 0.        ],\n",
       "        [0.23013517, 0.        , 0.86732012, ..., 0.        ,\n",
       "         0.57040501, 0.        ]]])"
      ]
     },
     "execution_count": 24,
     "metadata": {},
     "output_type": "execute_result"
    }
   ],
   "source": [
    "trainFeatures[0]"
   ]
  },
  {
   "cell_type": "code",
   "execution_count": 39,
   "metadata": {},
   "outputs": [
    {
     "data": {
      "text/plain": [
       "array([[[[0.00000000e+00, 0.00000000e+00, 7.88542032e-02, ...,\n",
       "          0.00000000e+00, 9.11574900e-01, 0.00000000e+00],\n",
       "         [4.25739765e-01, 0.00000000e+00, 1.56391287e+00, ...,\n",
       "          0.00000000e+00, 7.56930530e-01, 0.00000000e+00],\n",
       "         [9.36252773e-01, 0.00000000e+00, 1.07402086e+00, ...,\n",
       "          0.00000000e+00, 3.61881852e-01, 0.00000000e+00],\n",
       "         [4.31226045e-01, 0.00000000e+00, 1.96310353e+00, ...,\n",
       "          0.00000000e+00, 1.03826785e+00, 0.00000000e+00]],\n",
       "\n",
       "        [[0.00000000e+00, 0.00000000e+00, 2.09876704e+00, ...,\n",
       "          0.00000000e+00, 7.82357752e-01, 0.00000000e+00],\n",
       "         [1.01027966e+00, 0.00000000e+00, 2.41391921e+00, ...,\n",
       "          0.00000000e+00, 4.92528081e-01, 0.00000000e+00],\n",
       "         [1.49402761e+00, 0.00000000e+00, 1.34955549e+00, ...,\n",
       "          0.00000000e+00, 2.80556083e-01, 0.00000000e+00],\n",
       "         [9.05972421e-01, 0.00000000e+00, 1.86991072e+00, ...,\n",
       "          0.00000000e+00, 9.56054091e-01, 0.00000000e+00]],\n",
       "\n",
       "        [[0.00000000e+00, 0.00000000e+00, 1.91962194e+00, ...,\n",
       "          0.00000000e+00, 8.16385269e-01, 0.00000000e+00],\n",
       "         [1.05807376e+00, 0.00000000e+00, 1.86351085e+00, ...,\n",
       "          0.00000000e+00, 8.17819834e-01, 0.00000000e+00],\n",
       "         [1.35148668e+00, 0.00000000e+00, 5.96498370e-01, ...,\n",
       "          0.00000000e+00, 4.95154142e-01, 0.00000000e+00],\n",
       "         [4.98297036e-01, 0.00000000e+00, 4.08148527e-01, ...,\n",
       "          0.00000000e+00, 6.84453964e-01, 0.00000000e+00]],\n",
       "\n",
       "        [[0.00000000e+00, 0.00000000e+00, 9.63326454e-01, ...,\n",
       "          2.02975094e-01, 1.16000414e+00, 0.00000000e+00],\n",
       "         [5.69425225e-01, 0.00000000e+00, 7.74998546e-01, ...,\n",
       "          0.00000000e+00, 1.43742728e+00, 0.00000000e+00],\n",
       "         [9.36555445e-01, 0.00000000e+00, 9.58462656e-02, ...,\n",
       "          0.00000000e+00, 8.07946801e-01, 0.00000000e+00],\n",
       "         [2.30135173e-01, 0.00000000e+00, 8.67320120e-01, ...,\n",
       "          0.00000000e+00, 5.70405006e-01, 0.00000000e+00]]],\n",
       "\n",
       "\n",
       "       [[[9.03608680e-01, 0.00000000e+00, 2.53237784e-01, ...,\n",
       "          0.00000000e+00, 6.44648790e-01, 0.00000000e+00],\n",
       "         [1.59732425e+00, 0.00000000e+00, 7.54861832e-01, ...,\n",
       "          0.00000000e+00, 2.42711127e-01, 0.00000000e+00],\n",
       "         [1.28306508e+00, 0.00000000e+00, 1.40240002e+00, ...,\n",
       "          0.00000000e+00, 6.88314557e-01, 0.00000000e+00],\n",
       "         [7.98261344e-01, 0.00000000e+00, 1.50051272e+00, ...,\n",
       "          0.00000000e+00, 1.34268224e+00, 0.00000000e+00]],\n",
       "\n",
       "        [[1.23703253e+00, 0.00000000e+00, 2.01142383e+00, ...,\n",
       "          0.00000000e+00, 5.19762695e-01, 0.00000000e+00],\n",
       "         [1.91242921e+00, 0.00000000e+00, 7.44597077e-01, ...,\n",
       "          0.00000000e+00, 8.14990997e-02, 0.00000000e+00],\n",
       "         [1.73678076e+00, 0.00000000e+00, 8.08036923e-01, ...,\n",
       "          0.00000000e+00, 6.39205635e-01, 0.00000000e+00],\n",
       "         [1.18601978e+00, 0.00000000e+00, 1.04849362e+00, ...,\n",
       "          0.00000000e+00, 1.40057516e+00, 0.00000000e+00]],\n",
       "\n",
       "        [[1.31609643e+00, 0.00000000e+00, 1.61596131e+00, ...,\n",
       "          0.00000000e+00, 4.98608351e-01, 0.00000000e+00],\n",
       "         [1.47017574e+00, 0.00000000e+00, 4.01527643e-01, ...,\n",
       "          0.00000000e+00, 3.81350607e-01, 0.00000000e+00],\n",
       "         [1.22940397e+00, 0.00000000e+00, 0.00000000e+00, ...,\n",
       "          0.00000000e+00, 5.70683837e-01, 0.00000000e+00],\n",
       "         [4.20231164e-01, 0.00000000e+00, 7.65136480e-02, ...,\n",
       "          0.00000000e+00, 8.53193104e-01, 0.00000000e+00]],\n",
       "\n",
       "        [[8.51617575e-01, 0.00000000e+00, 0.00000000e+00, ...,\n",
       "          0.00000000e+00, 8.30092251e-01, 0.00000000e+00],\n",
       "         [8.64708602e-01, 0.00000000e+00, 3.25829148e-01, ...,\n",
       "          0.00000000e+00, 7.11308360e-01, 0.00000000e+00],\n",
       "         [6.45548940e-01, 0.00000000e+00, 2.73639351e-01, ...,\n",
       "          0.00000000e+00, 7.40102172e-01, 0.00000000e+00],\n",
       "         [3.33532840e-01, 0.00000000e+00, 7.12170243e-01, ...,\n",
       "          0.00000000e+00, 6.87608957e-01, 0.00000000e+00]]],\n",
       "\n",
       "\n",
       "       [[[8.19751978e-01, 0.00000000e+00, 0.00000000e+00, ...,\n",
       "          0.00000000e+00, 1.04741907e+00, 0.00000000e+00],\n",
       "         [1.44578874e+00, 0.00000000e+00, 6.34538889e-01, ...,\n",
       "          0.00000000e+00, 5.40322602e-01, 0.00000000e+00],\n",
       "         [1.19281816e+00, 0.00000000e+00, 2.44669586e-01, ...,\n",
       "          0.00000000e+00, 4.19724762e-01, 0.00000000e+00],\n",
       "         [1.02489460e+00, 0.00000000e+00, 7.41961539e-01, ...,\n",
       "          0.00000000e+00, 1.00370920e+00, 0.00000000e+00]],\n",
       "\n",
       "        [[1.34589827e+00, 0.00000000e+00, 1.25858235e+00, ...,\n",
       "          7.63197467e-02, 8.80272865e-01, 0.00000000e+00],\n",
       "         [1.75862443e+00, 0.00000000e+00, 5.53934097e-01, ...,\n",
       "          1.20640106e-01, 6.40640318e-01, 0.00000000e+00],\n",
       "         [1.49995351e+00, 0.00000000e+00, 7.79064298e-02, ...,\n",
       "          0.00000000e+00, 4.48444843e-01, 0.00000000e+00],\n",
       "         [1.27433693e+00, 0.00000000e+00, 7.31812000e-01, ...,\n",
       "          0.00000000e+00, 8.02012861e-01, 0.00000000e+00]],\n",
       "\n",
       "        [[9.27870631e-01, 0.00000000e+00, 1.31071258e+00, ...,\n",
       "          0.00000000e+00, 4.05133486e-01, 0.00000000e+00],\n",
       "         [7.16284454e-01, 0.00000000e+00, 1.48775786e-01, ...,\n",
       "          0.00000000e+00, 6.18677795e-01, 0.00000000e+00],\n",
       "         [7.59786189e-01, 0.00000000e+00, 0.00000000e+00, ...,\n",
       "          0.00000000e+00, 4.74292815e-01, 0.00000000e+00],\n",
       "         [4.97888595e-01, 0.00000000e+00, 2.16454953e-01, ...,\n",
       "          0.00000000e+00, 6.24845684e-01, 0.00000000e+00]],\n",
       "\n",
       "        [[2.65932202e-01, 0.00000000e+00, 6.42948568e-01, ...,\n",
       "          0.00000000e+00, 9.36093569e-01, 0.00000000e+00],\n",
       "         [2.22395793e-01, 0.00000000e+00, 5.68751812e-01, ...,\n",
       "          0.00000000e+00, 9.57269430e-01, 0.00000000e+00],\n",
       "         [4.38290805e-01, 0.00000000e+00, 1.16383046e-01, ...,\n",
       "          0.00000000e+00, 7.45278418e-01, 0.00000000e+00],\n",
       "         [2.31867388e-01, 0.00000000e+00, 9.09971595e-01, ...,\n",
       "          0.00000000e+00, 7.71680057e-01, 0.00000000e+00]]],\n",
       "\n",
       "\n",
       "       ...,\n",
       "\n",
       "\n",
       "       [[[5.97290635e-01, 0.00000000e+00, 1.11381805e+00, ...,\n",
       "          0.00000000e+00, 9.40659463e-01, 0.00000000e+00],\n",
       "         [5.22052526e-01, 0.00000000e+00, 2.00269389e+00, ...,\n",
       "          0.00000000e+00, 6.03471458e-01, 0.00000000e+00],\n",
       "         [1.28137243e+00, 0.00000000e+00, 1.70490599e+00, ...,\n",
       "          0.00000000e+00, 1.32737994e+00, 0.00000000e+00],\n",
       "         [1.32414460e+00, 0.00000000e+00, 1.49971819e+00, ...,\n",
       "          1.22296765e-01, 1.82144141e+00, 0.00000000e+00]],\n",
       "\n",
       "        [[1.23484111e+00, 0.00000000e+00, 2.41291285e+00, ...,\n",
       "          0.00000000e+00, 8.31134200e-01, 0.00000000e+00],\n",
       "         [1.09697914e+00, 0.00000000e+00, 1.74378276e+00, ...,\n",
       "          0.00000000e+00, 4.40015972e-01, 4.61873040e-03],\n",
       "         [1.44546676e+00, 0.00000000e+00, 9.25033331e-01, ...,\n",
       "          0.00000000e+00, 8.86207223e-01, 4.77805734e-02],\n",
       "         [1.50511837e+00, 0.00000000e+00, 1.26236081e+00, ...,\n",
       "          1.72685668e-01, 1.60429096e+00, 0.00000000e+00]],\n",
       "\n",
       "        [[9.47316170e-01, 0.00000000e+00, 2.08151770e+00, ...,\n",
       "          0.00000000e+00, 1.04110658e+00, 0.00000000e+00],\n",
       "         [1.08750176e+00, 0.00000000e+00, 6.65979624e-01, ...,\n",
       "          0.00000000e+00, 6.96973860e-01, 0.00000000e+00],\n",
       "         [8.81924033e-01, 0.00000000e+00, 0.00000000e+00, ...,\n",
       "          0.00000000e+00, 6.21351242e-01, 0.00000000e+00],\n",
       "         [7.89893270e-01, 0.00000000e+00, 2.02147722e-01, ...,\n",
       "          0.00000000e+00, 8.18083644e-01, 0.00000000e+00]],\n",
       "\n",
       "        [[5.18446326e-01, 0.00000000e+00, 8.21995854e-01, ...,\n",
       "          0.00000000e+00, 1.11033225e+00, 0.00000000e+00],\n",
       "         [7.22200990e-01, 0.00000000e+00, 4.69821125e-01, ...,\n",
       "          0.00000000e+00, 6.92315280e-01, 0.00000000e+00],\n",
       "         [4.77850705e-01, 0.00000000e+00, 3.81406724e-01, ...,\n",
       "          0.00000000e+00, 6.54990673e-01, 0.00000000e+00],\n",
       "         [4.70671922e-01, 0.00000000e+00, 7.42855072e-01, ...,\n",
       "          0.00000000e+00, 7.05882192e-01, 0.00000000e+00]]],\n",
       "\n",
       "\n",
       "       [[[1.18852401e+00, 0.00000000e+00, 0.00000000e+00, ...,\n",
       "          0.00000000e+00, 1.24846053e+00, 0.00000000e+00],\n",
       "         [8.88904333e-01, 0.00000000e+00, 1.18227673e+00, ...,\n",
       "          0.00000000e+00, 9.02797103e-01, 0.00000000e+00],\n",
       "         [9.40834820e-01, 0.00000000e+00, 1.15789270e+00, ...,\n",
       "          0.00000000e+00, 9.50618267e-01, 0.00000000e+00],\n",
       "         [1.05560255e+00, 0.00000000e+00, 8.43602061e-01, ...,\n",
       "          0.00000000e+00, 1.26805794e+00, 0.00000000e+00]],\n",
       "\n",
       "        [[2.40155959e+00, 0.00000000e+00, 2.27852821e-01, ...,\n",
       "          0.00000000e+00, 1.15636921e+00, 0.00000000e+00],\n",
       "         [1.75327051e+00, 0.00000000e+00, 8.18386018e-01, ...,\n",
       "          0.00000000e+00, 7.27457583e-01, 0.00000000e+00],\n",
       "         [1.38148129e+00, 0.00000000e+00, 7.68144786e-01, ...,\n",
       "          0.00000000e+00, 7.03655720e-01, 0.00000000e+00],\n",
       "         [1.13108110e+00, 0.00000000e+00, 1.26265502e+00, ...,\n",
       "          0.00000000e+00, 1.13016140e+00, 0.00000000e+00]],\n",
       "\n",
       "        [[1.59556329e+00, 0.00000000e+00, 7.81029165e-01, ...,\n",
       "          0.00000000e+00, 9.43843961e-01, 0.00000000e+00],\n",
       "         [1.30356789e+00, 0.00000000e+00, 2.10618228e-01, ...,\n",
       "          0.00000000e+00, 7.64318287e-01, 0.00000000e+00],\n",
       "         [8.74574721e-01, 0.00000000e+00, 0.00000000e+00, ...,\n",
       "          0.00000000e+00, 6.57891214e-01, 0.00000000e+00],\n",
       "         [8.67391452e-02, 0.00000000e+00, 3.82896245e-01, ...,\n",
       "          0.00000000e+00, 8.74147356e-01, 0.00000000e+00]],\n",
       "\n",
       "        [[5.97221971e-01, 0.00000000e+00, 8.51706624e-01, ...,\n",
       "          0.00000000e+00, 9.23991323e-01, 0.00000000e+00],\n",
       "         [9.24452722e-01, 0.00000000e+00, 1.39914781e-01, ...,\n",
       "          0.00000000e+00, 6.05299950e-01, 0.00000000e+00],\n",
       "         [6.46900535e-01, 0.00000000e+00, 4.70184982e-02, ...,\n",
       "          0.00000000e+00, 6.86260462e-01, 0.00000000e+00],\n",
       "         [1.86834052e-01, 0.00000000e+00, 4.74642873e-01, ...,\n",
       "          0.00000000e+00, 7.03689098e-01, 0.00000000e+00]]],\n",
       "\n",
       "\n",
       "       [[[1.22155249e+00, 0.00000000e+00, 3.32461596e-02, ...,\n",
       "          0.00000000e+00, 1.08637762e+00, 0.00000000e+00],\n",
       "         [1.18716490e+00, 0.00000000e+00, 1.29807520e+00, ...,\n",
       "          0.00000000e+00, 8.74933898e-01, 0.00000000e+00],\n",
       "         [1.55303085e+00, 0.00000000e+00, 9.49057996e-01, ...,\n",
       "          0.00000000e+00, 8.52731109e-01, 0.00000000e+00],\n",
       "         [1.14594185e+00, 0.00000000e+00, 1.32555366e+00, ...,\n",
       "          0.00000000e+00, 1.44131565e+00, 0.00000000e+00]],\n",
       "\n",
       "        [[2.53552794e+00, 0.00000000e+00, 1.18084025e+00, ...,\n",
       "          0.00000000e+00, 1.02596974e+00, 0.00000000e+00],\n",
       "         [2.37798095e+00, 0.00000000e+00, 1.08543015e+00, ...,\n",
       "          0.00000000e+00, 6.19271815e-01, 0.00000000e+00],\n",
       "         [2.02797031e+00, 0.00000000e+00, 5.70247233e-01, ...,\n",
       "          0.00000000e+00, 6.23609364e-01, 0.00000000e+00],\n",
       "         [1.34862757e+00, 0.00000000e+00, 1.21915662e+00, ...,\n",
       "          0.00000000e+00, 1.37020791e+00, 0.00000000e+00]],\n",
       "\n",
       "        [[2.09517717e+00, 0.00000000e+00, 1.03853333e+00, ...,\n",
       "          0.00000000e+00, 1.04799438e+00, 0.00000000e+00],\n",
       "         [1.89792418e+00, 0.00000000e+00, 2.53152668e-01, ...,\n",
       "          0.00000000e+00, 5.52166104e-01, 0.00000000e+00],\n",
       "         [1.12487280e+00, 0.00000000e+00, 0.00000000e+00, ...,\n",
       "          0.00000000e+00, 4.93453264e-01, 0.00000000e+00],\n",
       "         [5.06023109e-01, 0.00000000e+00, 2.20555067e-03, ...,\n",
       "          0.00000000e+00, 8.17448676e-01, 0.00000000e+00]],\n",
       "\n",
       "        [[9.01552498e-01, 0.00000000e+00, 3.04674238e-01, ...,\n",
       "          0.00000000e+00, 1.09515166e+00, 0.00000000e+00],\n",
       "         [1.01221907e+00, 0.00000000e+00, 1.91474319e-01, ...,\n",
       "          0.00000000e+00, 7.18161285e-01, 0.00000000e+00],\n",
       "         [5.08058310e-01, 0.00000000e+00, 6.30747378e-02, ...,\n",
       "          0.00000000e+00, 7.02124536e-01, 0.00000000e+00],\n",
       "         [3.02401960e-01, 0.00000000e+00, 6.33331537e-01, ...,\n",
       "          0.00000000e+00, 6.04762435e-01, 0.00000000e+00]]]])"
      ]
     },
     "execution_count": 39,
     "metadata": {},
     "output_type": "execute_result"
    }
   ],
   "source": [
    "trainFeatures"
   ]
  },
  {
   "cell_type": "markdown",
   "metadata": {},
   "source": [
    "## Step 3: Model Building"
   ]
  },
  {
   "cell_type": "code",
   "execution_count": 8,
   "metadata": {},
   "outputs": [],
   "source": [
    "from sklearn.svm import SVC"
   ]
  },
  {
   "cell_type": "code",
   "execution_count": 9,
   "metadata": {},
   "outputs": [],
   "source": [
    "from tensorflow.keras import layers\n",
    "from tensorflow.keras import models"
   ]
  },
  {
   "cell_type": "code",
   "execution_count": 10,
   "metadata": {},
   "outputs": [],
   "source": [
    "ann = models.Sequential([\n",
    "    layers.Flatten(input_shape=(4,4,512)),\n",
    "    layers.Dense(3000,activation='relu'),\n",
    "    layers.Dense(1000,activation='relu'),\n",
    "    layers.Dense(1,activation='sigmoid')\n",
    "])"
   ]
  },
  {
   "cell_type": "code",
   "execution_count": 11,
   "metadata": {},
   "outputs": [
    {
     "name": "stdout",
     "output_type": "stream",
     "text": [
      "Epoch 1/5\n",
      "621/621 [==============================] - 86s 136ms/step - loss: 0.5148 - accuracy: 0.8319\n",
      "Epoch 2/5\n",
      "621/621 [==============================] - 86s 138ms/step - loss: 0.2035 - accuracy: 0.9212\n",
      "Epoch 3/5\n",
      "621/621 [==============================] - 89s 143ms/step - loss: 0.1709 - accuracy: 0.9346\n",
      "Epoch 4/5\n",
      "621/621 [==============================] - 96s 155ms/step - loss: 0.1881 - accuracy: 0.9259\n",
      "Epoch 5/5\n",
      "621/621 [==============================] - 87s 140ms/step - loss: 0.1364 - accuracy: 0.9499\n"
     ]
    },
    {
     "data": {
      "text/plain": [
       "<tensorflow.python.keras.callbacks.History at 0x7fe6c3834070>"
      ]
     },
     "execution_count": 11,
     "metadata": {},
     "output_type": "execute_result"
    }
   ],
   "source": [
    "ann.compile(optimizer='adam',\n",
    "           loss='binary_crossentropy',\n",
    "           metrics=['accuracy'])\n",
    "\n",
    "ann.fit(trainFeatures,trainLabels,epochs=5)"
   ]
  },
  {
   "cell_type": "code",
   "execution_count": 14,
   "metadata": {},
   "outputs": [
    {
     "name": "stdout",
     "output_type": "stream",
     "text": [
      "69/69 [==============================] - 2s 31ms/step - loss: 0.2045 - accuracy: 0.9270\n"
     ]
    },
    {
     "data": {
      "text/plain": [
       "[0.2044825404882431, 0.926950991153717]"
      ]
     },
     "execution_count": 14,
     "metadata": {},
     "output_type": "execute_result"
    }
   ],
   "source": [
    "ann.evaluate(valFeatures,valLabels)"
   ]
  },
  {
   "cell_type": "code",
   "execution_count": 15,
   "metadata": {},
   "outputs": [
    {
     "name": "stdout",
     "output_type": "stream",
     "text": [
      "173/173 [==============================] - 5s 31ms/step - loss: 0.1822 - accuracy: 0.9278\n"
     ]
    },
    {
     "data": {
      "text/plain": [
       "[0.18221238255500793, 0.9277939200401306]"
      ]
     },
     "execution_count": 15,
     "metadata": {},
     "output_type": "execute_result"
    }
   ],
   "source": [
    "ann.evaluate(testFeatures,testLabels)"
   ]
  },
  {
   "cell_type": "code",
   "execution_count": 69,
   "metadata": {},
   "outputs": [],
   "source": [
    "cnn = models.Sequential([\n",
    "    # cnn\n",
    "    layers.Conv2D(filters=500,activation='relu',kernel_size=3,input_shape=(4,4,512)),\n",
    "    layers.MaxPool2D(2,2),\n",
    "    \n",
    "    # dense\n",
    "    layers.Flatten(),\n",
    "    #layers.Dropout(0.5),\n",
    "    layers.Dense(500,activation='relu'),\n",
    "    layers.Dense(64,activation='relu'),\n",
    "    layers.Dense(1,activation='sigmoid')\n",
    "])"
   ]
  },
  {
   "cell_type": "code",
   "execution_count": 70,
   "metadata": {
    "code_folding": []
   },
   "outputs": [
    {
     "name": "stdout",
     "output_type": "stream",
     "text": [
      "Epoch 1/10\n",
      "621/621 [==============================] - 40s 63ms/step - loss: 0.3303 - accuracy: 0.8552\n",
      "Epoch 2/10\n",
      "621/621 [==============================] - 39s 62ms/step - loss: 0.1731 - accuracy: 0.9351\n",
      "Epoch 3/10\n",
      "621/621 [==============================] - 39s 63ms/step - loss: 0.1602 - accuracy: 0.9427\n",
      "Epoch 4/10\n",
      "621/621 [==============================] - 39s 63ms/step - loss: 0.1543 - accuracy: 0.9444\n",
      "Epoch 5/10\n",
      "621/621 [==============================] - 39s 64ms/step - loss: 0.1363 - accuracy: 0.9517\n",
      "Epoch 6/10\n",
      "621/621 [==============================] - 40s 64ms/step - loss: 0.1308 - accuracy: 0.9531\n",
      "Epoch 7/10\n",
      "621/621 [==============================] - 40s 65ms/step - loss: 0.1145 - accuracy: 0.9577\n",
      "Epoch 8/10\n",
      "621/621 [==============================] - 40s 64ms/step - loss: 0.1186 - accuracy: 0.9570\n",
      "Epoch 9/10\n",
      "621/621 [==============================] - 40s 65ms/step - loss: 0.0992 - accuracy: 0.9632\n",
      "Epoch 10/10\n",
      "621/621 [==============================] - 41s 65ms/step - loss: 0.0958 - accuracy: 0.9659\n"
     ]
    },
    {
     "data": {
      "text/plain": [
       "<tensorflow.python.keras.callbacks.History at 0x7fe5a3947100>"
      ]
     },
     "execution_count": 70,
     "metadata": {},
     "output_type": "execute_result"
    }
   ],
   "source": [
    "cnn.compile(optimizer='adam',\n",
    "           loss='binary_crossentropy',\n",
    "           metrics=['accuracy'])\n",
    "\n",
    "cnn.fit(trainFeatures,trainLabels,epochs=10)"
   ]
  },
  {
   "cell_type": "code",
   "execution_count": 71,
   "metadata": {},
   "outputs": [
    {
     "name": "stdout",
     "output_type": "stream",
     "text": [
      "69/69 [==============================] - 1s 9ms/step - loss: 0.1929 - accuracy: 0.9419\n"
     ]
    },
    {
     "data": {
      "text/plain": [
       "[0.19289305806159973, 0.9419237971305847]"
      ]
     },
     "execution_count": 71,
     "metadata": {},
     "output_type": "execute_result"
    }
   ],
   "source": [
    "cnn.evaluate(valFeatures,valLabels)"
   ]
  },
  {
   "cell_type": "markdown",
   "metadata": {},
   "source": [
    "### Step 4: Make prediction for the testing data"
   ]
  },
  {
   "cell_type": "code",
   "execution_count": 73,
   "metadata": {},
   "outputs": [
    {
     "name": "stdout",
     "output_type": "stream",
     "text": [
      "173/173 [==============================] - 2s 9ms/step - loss: 0.1652 - accuracy: 0.9448\n"
     ]
    }
   ],
   "source": [
    "accuracy = cnn.evaluate(testFeatures,testLabels)"
   ]
  },
  {
   "cell_type": "code",
   "execution_count": 75,
   "metadata": {},
   "outputs": [
    {
     "name": "stdout",
     "output_type": "stream",
     "text": [
      "The test accuracy is 0.944847583770752\n"
     ]
    }
   ],
   "source": [
    "print('The test accuracy is {}'.format(accuracy[1]))"
   ]
  }
 ],
 "metadata": {
  "kernelspec": {
   "display_name": "Python 3",
   "language": "python",
   "name": "python3"
  },
  "language_info": {
   "codemirror_mode": {
    "name": "ipython",
    "version": 3
   },
   "file_extension": ".py",
   "mimetype": "text/x-python",
   "name": "python",
   "nbconvert_exporter": "python",
   "pygments_lexer": "ipython3",
   "version": "3.8.3"
  }
 },
 "nbformat": 4,
 "nbformat_minor": 4
}
